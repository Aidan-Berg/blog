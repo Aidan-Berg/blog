{
  "cells": [
    {
      "cell_type": "raw",
      "metadata": {},
      "source": [
        "---\n",
        "title: \"About\"\n",
        "image: headshot.png\n",
        "about:\n",
        "  template: jolla\n",
        "  links:\n",
        "    - icon: github\n",
        "      href: https://github.com/Aidan-Berg\n",
        "    - icon: linkedin\n",
        "      href: https://www.linkedin.com/in/aidan-berg-epi/\n",
        "---"
      ],
      "id": "54663fe1"
    },
    {
      "cell_type": "markdown",
      "metadata": {},
      "source": [
        "```{css, echo = FALSE}\n",
        ".justify {\n",
        "  text-align: justify !important\n",
        "}\n",
        "```\n",
        "\n",
        "\n",
        "## Bio\n",
        "\n",
        "Hello! I am Aidan Berg *(he/him)*, an epidemiologist working as a research data specialist at the University of Illinois School of Social Work. Currently, much of my work focuses on independent evaluation of Illinois Medicaid 1115 Behavioral Health Transformation Demonstration Waiver. I have an affinity for data cleaning, manipulation, analysis, and visualization with a variety of software packages, primarily R. When I am not working on data analysis, I am usually writing: grant reports, policy evaluation, IRB requests, PHI data applications, and whatever other technical writing can move our projects at UIUC's Center for Prevention Research and Development forward.\n",
        "\n",
        "When I'm not at work, I enjoy biking, board games, and reading (mostly horror novels by Shirley Jackson and Peter Straub).\n",
        "\n",
        "## Education\n",
        "\n",
        "**University of Illinois at Urbana-Champaign** \\| Urbana, IL\n",
        "\n",
        "MPH in Epidemiology \\| August 2021 - December 2022\n",
        "\n",
        "**University of Illinois at Urbana-Champaign** \\| Urbana, IL\n",
        "\n",
        "B.S. in Community Health \\| August 2018 - May 2021\n",
        "\n",
        "## Experience\n",
        "\n",
        "**Center for Prevention Research and Development** \\| Research Data Specialist \\| January 2023 - Present\n",
        "\n",
        "**University of Illinois Extension** \\| Student Researcher \\| February 2019 - December 2022"
      ],
      "id": "fada69cc"
    }
  ],
  "metadata": {
    "kernelspec": {
      "display_name": "Python 3",
      "language": "python",
      "name": "python3"
    }
  },
  "nbformat": 4,
  "nbformat_minor": 5
}